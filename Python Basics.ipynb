{
 "cells": [
  {
   "cell_type": "markdown",
   "metadata": {},
   "source": [
    "# Python Basics\n",
    "\n",
    "## Data types"
   ]
  },
  {
   "cell_type": "code",
   "execution_count": 10,
   "metadata": {},
   "outputs": [],
   "source": [
    "# Initializing variables with different data types\n",
    "\n",
    "sent = \"This is a sentence\"\n",
    "sent_nbr = \"2\"\n",
    "nbr = 2\n",
    "comma = 2.0\n",
    "condition = True"
   ]
  },
  {
   "cell_type": "code",
   "execution_count": 11,
   "metadata": {},
   "outputs": [
    {
     "name": "stdout",
     "output_type": "stream",
     "text": [
      "<class 'str'> This is a sentence\n",
      "<class 'str'> 2\n",
      "<class 'int'> 2\n",
      "<class 'float'> 2.0\n",
      "<class 'bool'> True\n"
     ]
    }
   ],
   "source": [
    "# Printing types and values\n",
    "\n",
    "print(type(sent), sent)\n",
    "print(type(sent_nbr), sent_nbr)\n",
    "print(type(nbr), nbr)\n",
    "print(type(comma), comma)\n",
    "print(type(condition), condition)"
   ]
  },
  {
   "cell_type": "markdown",
   "metadata": {},
   "source": [
    "## Basic data type operations"
   ]
  },
  {
   "cell_type": "code",
   "execution_count": 12,
   "metadata": {},
   "outputs": [
    {
     "name": "stdout",
     "output_type": "stream",
     "text": [
      "<class 'int'> 8\n",
      "<class 'int'> 15\n",
      "<class 'float'> 6.0\n"
     ]
    }
   ],
   "source": [
    "# Integers and floats\n",
    "\n",
    "result = 3 + 5\n",
    "result2 = 3 * 5\n",
    "result3 = 2.5 + 3.5\n",
    "\n",
    "print(type(result), result)\n",
    "print(type(result2), result2)\n",
    "print(type(result3), result3)"
   ]
  },
  {
   "cell_type": "code",
   "execution_count": 13,
   "metadata": {},
   "outputs": [
    {
     "name": "stdout",
     "output_type": "stream",
     "text": [
      "<class 'str'> 35\n",
      "<class 'str'> My sentence\n"
     ]
    }
   ],
   "source": [
    "# String concatenation\n",
    "\n",
    "result_str = \"3\" + \"5\"\n",
    "first = \"My \"\n",
    "second = \"sentence\"\n",
    "concat = first + second\n",
    "\n",
    "print(type(result_str), result_str)\n",
    "print(type(concat), concat)"
   ]
  },
  {
   "cell_type": "markdown",
   "metadata": {},
   "source": [
    "## Conditions"
   ]
  },
  {
   "cell_type": "code",
   "execution_count": 28,
   "metadata": {
    "scrolled": true
   },
   "outputs": [
    {
     "name": "stdout",
     "output_type": "stream",
     "text": [
      "First test condition\n"
     ]
    }
   ],
   "source": [
    "# Basic True/False condition\n",
    "\n",
    "var = True\n",
    "\n",
    "if var == True:\n",
    "    print(\"First test condition\")\n",
    "    # do some other actions\n",
    "    \n",
    "if var != True:\n",
    "    print(\"Second test condition\")"
   ]
  },
  {
   "cell_type": "code",
   "execution_count": 22,
   "metadata": {},
   "outputs": [
    {
     "name": "stdout",
     "output_type": "stream",
     "text": [
      "5 est inférieur à 10\n",
      "5 est égal à 5\n"
     ]
    }
   ],
   "source": [
    "# Number comparison\n",
    "\n",
    "if 5 < 10:\n",
    "    print(\"5 est inférieur à 10\")\n",
    "    \n",
    "if 5 > 10:\n",
    "    print(\"5 est supérieur à 10\")\n",
    "    \n",
    "if 5 == 5:\n",
    "    print(\"5 est égal à 5\")"
   ]
  },
  {
   "cell_type": "markdown",
   "metadata": {},
   "source": [
    "## Loops and indices"
   ]
  },
  {
   "cell_type": "code",
   "execution_count": 27,
   "metadata": {},
   "outputs": [
    {
     "name": "stdout",
     "output_type": "stream",
     "text": [
      "E\n",
      "Exa\n",
      "Example\n"
     ]
    }
   ],
   "source": [
    "# Access indices\n",
    "\n",
    "my_string = \"Example\"\n",
    "\n",
    "print(my_string[0])\n",
    "print(my_string[0:3])\n",
    "print(my_string)"
   ]
  },
  {
   "cell_type": "code",
   "execution_count": 31,
   "metadata": {},
   "outputs": [
    {
     "name": "stdout",
     "output_type": "stream",
     "text": [
      "0 E\n",
      "1 x\n",
      "2 a\n",
      "3 m\n",
      "4 p\n",
      "5 l\n",
      "6 e\n"
     ]
    }
   ],
   "source": [
    "# Loop over characters with for\n",
    "\n",
    "i = 0\n",
    "for elem in my_string:\n",
    "    print(i, elem)\n",
    "    i += 1"
   ]
  }
 ],
 "metadata": {
  "kernelspec": {
   "display_name": "Python 3",
   "language": "python",
   "name": "python3"
  },
  "language_info": {
   "codemirror_mode": {
    "name": "ipython",
    "version": 3
   },
   "file_extension": ".py",
   "mimetype": "text/x-python",
   "name": "python",
   "nbconvert_exporter": "python",
   "pygments_lexer": "ipython3",
   "version": "3.8.3"
  }
 },
 "nbformat": 4,
 "nbformat_minor": 4
}
